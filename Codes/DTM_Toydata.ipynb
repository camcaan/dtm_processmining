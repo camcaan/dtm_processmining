{
 "cells": [
  {
   "cell_type": "markdown",
   "metadata": {},
   "source": [
    "# Process Mining Disease Trajectory"
   ]
  },
  {
   "cell_type": "code",
   "execution_count": 2,
   "metadata": {
    "collapsed": true
   },
   "outputs": [],
   "source": [
    "import pandas as pd"
   ]
  },
  {
   "cell_type": "code",
   "execution_count": 3,
   "metadata": {},
   "outputs": [],
   "source": [
    "pairs = pd.read_csv(\"M:\\Work\\TOY\\Toy_2\\ToyData_PM_DTM.csv\")"
   ]
  },
  {
   "cell_type": "code",
   "execution_count": 4,
   "metadata": {},
   "outputs": [
    {
     "data": {
      "text/html": [
       "<div>\n",
       "<style scoped>\n",
       "    .dataframe tbody tr th:only-of-type {\n",
       "        vertical-align: middle;\n",
       "    }\n",
       "\n",
       "    .dataframe tbody tr th {\n",
       "        vertical-align: top;\n",
       "    }\n",
       "\n",
       "    .dataframe thead th {\n",
       "        text-align: right;\n",
       "    }\n",
       "</style>\n",
       "<table border=\"1\" class=\"dataframe\">\n",
       "  <thead>\n",
       "    <tr style=\"text-align: right;\">\n",
       "      <th></th>\n",
       "      <th>Subject_id</th>\n",
       "      <th>Diagnosis</th>\n",
       "      <th>Time</th>\n",
       "    </tr>\n",
       "  </thead>\n",
       "  <tbody>\n",
       "    <tr>\n",
       "      <td>0</td>\n",
       "      <td>1</td>\n",
       "      <td>I21</td>\n",
       "      <td>01/01/2100</td>\n",
       "    </tr>\n",
       "    <tr>\n",
       "      <td>1</td>\n",
       "      <td>1</td>\n",
       "      <td>I25</td>\n",
       "      <td>31/01/2100</td>\n",
       "    </tr>\n",
       "    <tr>\n",
       "      <td>2</td>\n",
       "      <td>2</td>\n",
       "      <td>I21</td>\n",
       "      <td>02/01/2100</td>\n",
       "    </tr>\n",
       "    <tr>\n",
       "      <td>3</td>\n",
       "      <td>2</td>\n",
       "      <td>I25</td>\n",
       "      <td>02/06/2100</td>\n",
       "    </tr>\n",
       "    <tr>\n",
       "      <td>4</td>\n",
       "      <td>3</td>\n",
       "      <td>I21</td>\n",
       "      <td>01/01/2100</td>\n",
       "    </tr>\n",
       "    <tr>\n",
       "      <td>...</td>\n",
       "      <td>...</td>\n",
       "      <td>...</td>\n",
       "      <td>...</td>\n",
       "    </tr>\n",
       "    <tr>\n",
       "      <td>109</td>\n",
       "      <td>49</td>\n",
       "      <td>I50</td>\n",
       "      <td>01/01/2100</td>\n",
       "    </tr>\n",
       "    <tr>\n",
       "      <td>110</td>\n",
       "      <td>49</td>\n",
       "      <td>J15</td>\n",
       "      <td>02/01/2100</td>\n",
       "    </tr>\n",
       "    <tr>\n",
       "      <td>111</td>\n",
       "      <td>49</td>\n",
       "      <td>M10</td>\n",
       "      <td>05/03/2100</td>\n",
       "    </tr>\n",
       "    <tr>\n",
       "      <td>112</td>\n",
       "      <td>50</td>\n",
       "      <td>I20</td>\n",
       "      <td>01/01/2100</td>\n",
       "    </tr>\n",
       "    <tr>\n",
       "      <td>113</td>\n",
       "      <td>50</td>\n",
       "      <td>I25</td>\n",
       "      <td>02/01/2100</td>\n",
       "    </tr>\n",
       "  </tbody>\n",
       "</table>\n",
       "<p>114 rows × 3 columns</p>\n",
       "</div>"
      ],
      "text/plain": [
       "     Subject_id Diagnosis        Time\n",
       "0             1       I21  01/01/2100\n",
       "1             1       I25  31/01/2100\n",
       "2             2       I21  02/01/2100\n",
       "3             2       I25  02/06/2100\n",
       "4             3       I21  01/01/2100\n",
       "..          ...       ...         ...\n",
       "109          49       I50  01/01/2100\n",
       "110          49       J15  02/01/2100\n",
       "111          49       M10  05/03/2100\n",
       "112          50       I20  01/01/2100\n",
       "113          50       I25  02/01/2100\n",
       "\n",
       "[114 rows x 3 columns]"
      ]
     },
     "execution_count": 4,
     "metadata": {},
     "output_type": "execute_result"
    }
   ],
   "source": [
    "pairs"
   ]
  },
  {
   "cell_type": "code",
   "execution_count": 6,
   "metadata": {
    "collapsed": true
   },
   "outputs": [],
   "source": [
    "# Remove the duplicate activities and put it into a new data frame\n",
    "# Dataframe df2 will be created\n",
    "\n",
    "## Select and then uncomment the necessary statement below\n",
    "removeduplicate = True\n",
    "#removeduplicate = False\n",
    "\n",
    "if removeduplicate == True:\n",
    "    filtered_pairs = pairs.drop_duplicates(subset= {'Subject_id', 'Diagnosis'}, keep='first')\n",
    "else:\n",
    "    filtered_pairs = pairs.copy()"
   ]
  },
  {
   "cell_type": "code",
   "execution_count": 7,
   "metadata": {},
   "outputs": [
    {
     "data": {
      "text/html": [
       "<div>\n",
       "<style scoped>\n",
       "    .dataframe tbody tr th:only-of-type {\n",
       "        vertical-align: middle;\n",
       "    }\n",
       "\n",
       "    .dataframe tbody tr th {\n",
       "        vertical-align: top;\n",
       "    }\n",
       "\n",
       "    .dataframe thead th {\n",
       "        text-align: right;\n",
       "    }\n",
       "</style>\n",
       "<table border=\"1\" class=\"dataframe\">\n",
       "  <thead>\n",
       "    <tr style=\"text-align: right;\">\n",
       "      <th></th>\n",
       "      <th>Subject_id</th>\n",
       "      <th>Diagnosis</th>\n",
       "      <th>Time</th>\n",
       "    </tr>\n",
       "  </thead>\n",
       "  <tbody>\n",
       "    <tr>\n",
       "      <td>0</td>\n",
       "      <td>1</td>\n",
       "      <td>I21</td>\n",
       "      <td>01/01/2100</td>\n",
       "    </tr>\n",
       "    <tr>\n",
       "      <td>1</td>\n",
       "      <td>1</td>\n",
       "      <td>I25</td>\n",
       "      <td>31/01/2100</td>\n",
       "    </tr>\n",
       "    <tr>\n",
       "      <td>2</td>\n",
       "      <td>2</td>\n",
       "      <td>I21</td>\n",
       "      <td>02/01/2100</td>\n",
       "    </tr>\n",
       "    <tr>\n",
       "      <td>3</td>\n",
       "      <td>2</td>\n",
       "      <td>I25</td>\n",
       "      <td>02/06/2100</td>\n",
       "    </tr>\n",
       "    <tr>\n",
       "      <td>4</td>\n",
       "      <td>3</td>\n",
       "      <td>I21</td>\n",
       "      <td>01/01/2100</td>\n",
       "    </tr>\n",
       "    <tr>\n",
       "      <td>...</td>\n",
       "      <td>...</td>\n",
       "      <td>...</td>\n",
       "      <td>...</td>\n",
       "    </tr>\n",
       "    <tr>\n",
       "      <td>109</td>\n",
       "      <td>49</td>\n",
       "      <td>I50</td>\n",
       "      <td>01/01/2100</td>\n",
       "    </tr>\n",
       "    <tr>\n",
       "      <td>110</td>\n",
       "      <td>49</td>\n",
       "      <td>J15</td>\n",
       "      <td>02/01/2100</td>\n",
       "    </tr>\n",
       "    <tr>\n",
       "      <td>111</td>\n",
       "      <td>49</td>\n",
       "      <td>M10</td>\n",
       "      <td>05/03/2100</td>\n",
       "    </tr>\n",
       "    <tr>\n",
       "      <td>112</td>\n",
       "      <td>50</td>\n",
       "      <td>I20</td>\n",
       "      <td>01/01/2100</td>\n",
       "    </tr>\n",
       "    <tr>\n",
       "      <td>113</td>\n",
       "      <td>50</td>\n",
       "      <td>I25</td>\n",
       "      <td>02/01/2100</td>\n",
       "    </tr>\n",
       "  </tbody>\n",
       "</table>\n",
       "<p>114 rows × 3 columns</p>\n",
       "</div>"
      ],
      "text/plain": [
       "     Subject_id Diagnosis        Time\n",
       "0             1       I21  01/01/2100\n",
       "1             1       I25  31/01/2100\n",
       "2             2       I21  02/01/2100\n",
       "3             2       I25  02/06/2100\n",
       "4             3       I21  01/01/2100\n",
       "..          ...       ...         ...\n",
       "109          49       I50  01/01/2100\n",
       "110          49       J15  02/01/2100\n",
       "111          49       M10  05/03/2100\n",
       "112          50       I20  01/01/2100\n",
       "113          50       I25  02/01/2100\n",
       "\n",
       "[114 rows x 3 columns]"
      ]
     },
     "execution_count": 7,
     "metadata": {},
     "output_type": "execute_result"
    }
   ],
   "source": [
    "filtered_pairs"
   ]
  },
  {
   "cell_type": "code",
   "execution_count": 9,
   "metadata": {
    "collapsed": true
   },
   "outputs": [],
   "source": [
    "filtered_pairs.to_csv(\"M:\\Work\\TOY\\Toy_2\\Filtered_eventlog.csv\", index=False, encoding='utf-8')"
   ]
  },
  {
   "cell_type": "markdown",
   "metadata": {},
   "source": [
    "# Graph Isomorphism Checker"
   ]
  },
  {
   "cell_type": "code",
   "execution_count": 17,
   "metadata": {
    "collapsed": true
   },
   "outputs": [],
   "source": [
    "import networkx as nx\n",
    "from networkx.algorithms import isomorphism\n",
    "import matplotlib.pyplot as plt"
   ]
  },
  {
   "cell_type": "code",
   "execution_count": 15,
   "metadata": {},
   "outputs": [],
   "source": [
    "g_promin = nx.DiGraph()\n",
    "g_promin.add_edges_from([('I20', 'K29'),\n",
    "                         ('I20', 'I48'),\n",
    "                         ('I20', 'I50'),\n",
    "                         ('I20', 'I25'),\n",
    "                         ('I25', 'J18'),\n",
    "                         ('I25', 'N30'),\n",
    "                         ('I25', 'M10'),\n",
    "                         ('I21', 'I25'),\n",
    "                         ('I50', 'J15'),\n",
    "                         ('I50', 'M10'),\n",
    "                         ('K29', 'I50'),\n",
    "                         ('I48', 'M10'),\n",
    "                         ('J15', 'M10'),])"
   ]
  },
  {
   "cell_type": "code",
   "execution_count": 16,
   "metadata": {
    "collapsed": true
   },
   "outputs": [],
   "source": [
    "g_Jensen = nx.DiGraph()\n",
    "g_Jensen.add_edges_from([('I20', 'I25'),\n",
    "                         ('I20', 'I48'),\n",
    "                         ('I20', 'I50'),\n",
    "                         ('I20', 'K29'),\n",
    "                         ('I21', 'I25'),\n",
    "                         ('I25', 'J18'),\n",
    "                         ('I25', 'N30'),\n",
    "                         ('I25', 'M10'),\n",
    "                         ('I48', 'M10'),\n",
    "                         ('I50', 'M10'),\n",
    "                         ('I50', 'J15'),\n",
    "                         ('K29', 'I50'),\n",
    "                         ('J15', 'M10'),])"
   ]
  },
  {
   "cell_type": "code",
   "execution_count": 31,
   "metadata": {},
   "outputs": [
    {
     "data": {
      "image/png": "[encoded data removed]",
      "text/plain": [
       "<matplotlib.figure.Figure at 0x1d6afc655f8>"
      ]
     },
     "metadata": {},
     "output_type": "display_data"
    }
   ],
   "source": [
    "pos = nx.spring_layout(g_Jensen)\n",
    "nx.draw_networkx(g_Jensen, pos)\n",
    "plt.show()"
   ]
  },
  {
   "cell_type": "code",
   "execution_count": 32,
   "metadata": {},
   "outputs": [
    {
     "data": {
      "image/png": "[encoded data removed]",
      "text/plain": [
       "<matplotlib.figure.Figure at 0x1d6b0eb5710>"
      ]
     },
     "metadata": {},
     "output_type": "display_data"
    }
   ],
   "source": [
    "pos = nx.spring_layout(g_promin)\n",
    "nx.draw_networkx(g_promin, pos)\n",
    "plt.show()"
   ]
  },
  {
   "cell_type": "code",
   "execution_count": 33,
   "metadata": {},
   "outputs": [
    {
     "data": {
      "text/plain": [
       "True"
      ]
     },
     "execution_count": 33,
     "metadata": {},
     "output_type": "execute_result"
    }
   ],
   "source": [
    "nx.is_isomorphic(g_Jensen, g_promin)"
   ]
  },
  {
   "cell_type": "code",
   "execution_count": null,
   "metadata": {
    "collapsed": true
   },
   "outputs": [],
   "source": []
  }
 ],
 "metadata": {
  "kernelspec": {
   "display_name": "Python 3",
   "language": "python",
   "name": "python3"
  },
  "language_info": {
   "codemirror_mode": {
    "name": "ipython",
    "version": 3
   },
   "file_extension": ".py",
   "mimetype": "text/x-python",
   "name": "python",
   "nbconvert_exporter": "python",
   "pygments_lexer": "ipython3",
   "version": "3.6.1"
  }
 },
 "nbformat": 4,
 "nbformat_minor": 2
}
